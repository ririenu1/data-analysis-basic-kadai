{
  "nbformat": 4,
  "nbformat_minor": 0,
  "metadata": {
    "colab": {
      "provenance": []
    },
    "kernelspec": {
      "name": "python3",
      "display_name": "Python 3"
    },
    "language_info": {
      "name": "python"
    }
  },
  "cells": [
    {
      "cell_type": "markdown",
      "source": [],
      "metadata": {
        "id": "PMUyLBCk_B2c"
      }
    },
    {
      "cell_type": "code",
      "source": [
        "import numpy as np\n",
        "\n",
        "a = np.array([[0,1],[2,3],[4,5]])\n",
        "b = np.array([[0,1,2,3],[4,5,6,7]])\n",
        "c = np.dot(a,b)\n",
        "c"
      ],
      "metadata": {
        "id": "QJ2j0NxVAp-G",
        "colab": {
          "base_uri": "https://localhost:8080/"
        },
        "outputId": "72746044-26b8-4343-be28-6e59744e168d"
      },
      "execution_count": 5,
      "outputs": [
        {
          "output_type": "execute_result",
          "data": {
            "text/plain": [
              "array([[ 4,  5,  6,  7],\n",
              "       [12, 17, 22, 27],\n",
              "       [20, 29, 38, 47]])"
            ]
          },
          "metadata": {},
          "execution_count": 5
        }
      ]
    },
    {
      "cell_type": "code",
      "source": [
        "# prompt: cの最大値を表示する\n",
        "\n",
        "print(np.max(c))"
      ],
      "metadata": {
        "colab": {
          "base_uri": "https://localhost:8080/"
        },
        "id": "ManL94U8wrvx",
        "outputId": "4fa53075-4fe2-46a9-8d60-3a25dd1a6eec"
      },
      "execution_count": 6,
      "outputs": [
        {
          "output_type": "stream",
          "name": "stdout",
          "text": [
            "47\n"
          ]
        }
      ]
    }
  ]
}